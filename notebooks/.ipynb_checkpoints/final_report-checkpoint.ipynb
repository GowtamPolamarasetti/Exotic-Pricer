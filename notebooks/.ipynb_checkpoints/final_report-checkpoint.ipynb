{
 "cells": [
  {
   "cell_type": "markdown",
   "metadata": {},
   "source": [
    "# A Comprehensive Guide to Constructing an Exotic Derivatives Pricing Engine\n",
    "\n",
    "**Final Report and Synthesis**\n",
    "\n",
    "This notebook serves as the final, comprehensive report for the Exotic Derivatives Pricing Engine project. It synthesizes the theoretical foundations, architectural design, and numerical implementations into a single, reproducible document. We will present a series of case studies demonstrating the engine's capabilities, validate its results, and analyze the complex financial behaviors of exotic options."
   ]
  },
  {
   "cell_type": "markdown",
   "metadata": {},
   "source": [
    "## Part I: Setup and Configuration\n",
    "\n",
    "First, we import the necessary libraries and the core components of our pricing engine."
   ]
  },
  {
   "cell_type": "code",
   "execution_count": null,
   "metadata": {},
   "outputs": [],
   "source": [
    "import numpy as np\n",
    "import matplotlib.pyplot as plt\n",
    "import seaborn as sns\n",
    "from IPython.display import display, Markdown\n",
    "\n",
    "sns.set_style(\"darkgrid\")\n",
    "\n",
    "# Import all components from our engine\n",
    "from src.exotic_engine.models.gbm import GeometricBrownianMotionProcess\n",
    "from src.exotic_engine.instruments.european import EuropeanOption\n",
    "from src.exotic_engine.instruments.asian import AsianOption\n",
    "from src.exotic_engine.instruments.barrier import BarrierOption\n",
    "from src.exotic_engine.instruments.bermudan import BermudanOption\n",
    "from src.exotic_engine.pricing_engines.mc_engine import MonteCarloEngine\n",
    "from src.exotic_engine.pricing_engines.fd_engine import FDEngine\n",
    "from src.exotic_engine.pricing_engines.tree_engine import TreeEngine\n",
    "from src.exotic_engine.analysis.greeks import GreeksCalculator\n",
    "\n",
    "print(\"Engine components imported successfully.\")"
   ]
  },
  {
   "cell_type": "markdown",
   "metadata": {},
   "source": [
    "## Part II: Case Study - Pricing and Cross-Validation\n",
    "\n",
    "A key validation step is to price the same instruments using our different numerical methods and ensure the results are consistent. We will price a standard European call and a more complex up-and-out barrier call.\n",
    "\n",
    "**Market Parameters:**\n",
    "- Spot Price (S0): $100\n",
    "- Strike Price (K): $100\n",
    "- Time to Maturity (T): 1 year\n",
    "- Risk-Free Rate (r): 5%\n",
    "- Volatility (σ): 20%\n",
    "- Barrier Level (B) for barrier option: $120"
   ]
  },
  {
   "cell_type": "code",
   "execution_count": null,
   "metadata": {},
   "outputs": [],
   "source": [
    "# 1. Define Market and Model Parameters\n",
    "S0 = 100.0\n",
    "K = 100.0\n",
    "T = 1.0\n",
    "r = 0.05\n",
    "sigma = 0.20\n",
    "\n",
    "# 2. Instantiate the Stochastic Process\n",
    "gbm_process = GeometricBrownianMotionProcess(s0=S0, r=r, sigma=sigma)\n",
    "\n",
    "# 3. Instantiate the Financial Instruments\n",
    "vanilla_call = EuropeanOption(K=K, T=T, option_type=\"call\")\n",
    "barrier_option = BarrierOption(K=K, T=T, B=120.0, barrier_type=\"up-and-out\", option_type=\"call\")\n",
    "bermudan_put = BermudanOption(K=105.0, T=T, option_type=\"put\", exercise_dates=[0.25, 0.5, 0.75])\n",
    "\n",
    "# 4. Instantiate the Pricing Engines\n",
    "mc_engine = MonteCarloEngine(num_sims=50000, num_steps=252, use_antithetic=True, random_seed=42)\n",
    "fd_engine = FDEngine(num_asset_steps=200, num_time_steps=200)\n",
    "tree_engine = TreeEngine(num_steps=500)\n",
    "\n",
    "# 5. Price the options\n",
    "price_vanilla_mc = mc_engine.calculate(vanilla_call, gbm_process)\n",
    "price_vanilla_fd, _, _ = fd_engine.calculate(vanilla_call, gbm_process)\n",
    "price_vanilla_tree = tree_engine.calculate(vanilla_call, gbm_process)\n",
    "\n",
    "price_barrier_mc = mc_engine.calculate(barrier_option, gbm_process)\n",
    "price_barrier_fd, _, _ = fd_engine.calculate(barrier_option, gbm_process)\n",
    "price_barrier_tree = tree_engine.calculate(barrier_option, gbm_process)\n",
    "\n",
    "price_bermudan_tree = tree_engine.calculate(bermudan_put, gbm_process)\n",
    "\n",
    "# 6. Display the results in a Markdown table\n",
    "results_md = \"\"\"\n",
    "### Results Comparison Table\n",
   
    "display(Markdown(results_md))"
   ]
  },
  {
   "cell_type": "markdown",
   "metadata": {},
   "source": [
    "## Part III: Sensitivity Analysis - Visualizing the Greeks\n",
    "\n",
    "Validation is not just about the price; it's about correctly capturing the instrument's risk profile. Here, we analyze the Gamma of the up-and-out barrier call option. As theory predicts, the Gamma should become extremely large and unstable as the asset price approaches the barrier, and then drop to zero once the barrier is breached. This visualization is a powerful qualitative validation of our Finite Difference engine."
   ]
  },
  {
   "cell_type": "code",
   "execution_count": null,
   "metadata": {},
   "outputs": [],
   "source": [
    "# 1. Define a wider range of spot prices for plotting\n",
    "spot_prices = np.linspace(80, 140, 100)\n",
    "gammas = []\n",
    "\n",
    "# 2. Use the robust FDEngine for this calculation\n",
    "fd_engine_greeks = FDEngine(num_asset_steps=400, num_time_steps=400, s_max_factor=2.5)\n",
    "\n",
    "# 3. Calculate Gamma for each spot price\n",
    "for s0_val in spot_prices:\n",
    "    process = GeometricBrownianMotionProcess(s0=s0_val, r=r, sigma=sigma)\n",
    "    _, _, gamma = fd_engine_greeks.calculate(barrier_option, process)\n",
    "    gammas.append(gamma)\n",
    "\n",
    "# 4. Plot the results\n",
    "plt.figure(figsize=(12, 7))\n",
    "plt.plot(spot_prices, gammas, color='crimson', lw=2.5)\n",
    "plt.axvline(x=120, color='black', linestyle='--', label='Barrier Level = $120.00')\n",
    "plt.title('Gamma of an Up-and-Out Call Option', fontsize=16)\n",
    "plt.xlabel('Spot Price ($)', fontsize=12)\n",
    "plt.ylabel('Gamma', fontsize=12)\n",
    "plt.legend()\n",
    "plt.show()"
   ]
  },
  {
   "cell_type": "markdown",
   "metadata": {},
   "source": [
    "The plot perfectly captures the theoretical Gamma profile: a dramatic spike just before the barrier and an immediate collapse to zero at and beyond the barrier. This confirms our engine is modeling the complex risk dynamics correctly."
   ]
  },
  {
   "cell_type": "markdown",
   "metadata": {},
   "source": [
    "## Part IV: Conclusion, Limitations, and Future Enhancements\n",
    "\n",
    "This project has successfully delivered a modular, validated, and extensible pricing engine for exotic derivatives in Python."
   ]
  },
  {
   "cell_type": "markdown",
   "metadata": {},
   "source": [
    "### 9.2 Discussion of Model Limitations\n",
    "\n",
    "A crucial part of any quantitative project is to acknowledge its limitations. The primary simplifying assumption made throughout this engine is its reliance on the **Geometric Brownian Motion (GBM)** model. The key limitations of this model are:\n",
    "\n",
    "1.  **Constant Volatility**: The model assumes the volatility (σ) of the underlying asset is constant. In reality, volatility changes over time and is dependent on the asset's price and the option's strike (a phenomenon known as the \"volatility smile\"). This is the most significant limitation.\n",
    "\n",
    "2.  **No Jumps**: GBM models continuous asset price movements. It does not account for sudden, discontinuous jumps that can occur in markets due to unexpected news or events.\n",
    "\n",
    "3.  **Lognormal Distribution**: The model implies that asset returns are normally distributed (and prices are log-normally distributed). Empirical evidence shows that real-world returns often exhibit \"fat tails,\" meaning extreme events are more likely than the normal distribution predicts."
   ]
  },
  {
   "cell_type": "markdown",
   "metadata": {},
   "source": [
    "### 9.3 Roadmap for Future Enhancements\n",
    "\n",
    "The modular architecture of the engine makes it an excellent platform for future extensions. Potential enhancements to address the limitations include:\n",
    "\n",
    "1.  **Implementing Advanced Stochastic Processes**: The `models` module could be extended to include more realistic processes:\n",
    "    * **Heston Model**: To capture stochastic (non-constant) volatility.\n",
    "    * **Merton's Jump-Diffusion Model**: To incorporate market shocks and jumps.\n",
    "\n",
    "2.  **Supporting Multi-Asset Options**: The engine's architecture could be expanded to price options whose payoffs depend on multiple underlying assets (e.g., basket options, rainbow options). This would primarily involve updating the `MonteCarloEngine` to handle correlated asset price simulations.\n",
    "\n",
    "3.  **Integrating Machine Learning Techniques**: Explore the use of machine learning for tasks such as:\n",
    "    * **Model Calibration**: Using neural networks to quickly calibrate complex models like Heston to the market's implied volatility surface.\n",
    "    * **Fast Pricing Proxies**: Training a model to learn the pricing function, allowing for near-instantaneous pricing once the model is trained."
   ]
  }
 ],
 "metadata": {
  "kernelspec": {
   "display_name": "Python 3",
   "language": "python",
   "name": "python3"
  },
  "language_info": {
   "codemirror_mode": {
    "name": "ipython",
    "version": 3
   },
   "file_extension": ".py",
   "mimetype": "text/x-python",
   "name": "python",
   "nbconvert_exporter": "python",
   "pygments_lexer": "ipython3",
   "version": "3.9.12"
  }
 },
 "nbformat": 4,
 "nbformat_minor": 4
}

