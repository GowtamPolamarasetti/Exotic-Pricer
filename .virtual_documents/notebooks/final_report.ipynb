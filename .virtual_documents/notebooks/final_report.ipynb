





import numpy as np
import matplotlib.pyplot as plt
import sys
sys.path.append('../') # Add root project dir to path

from src.exotic_engine.models.gbm import GeometricBrownianMotionProcess
from src.exotic_engine.instruments.barrier import BarrierOption
from src.exotic_engine.pricing_engines.fd_engine import FDEngine
from src.exotic_engine.analysis.greeks import GreeksCalculator

# Set plot style
plt.style.use('seaborn-v0_8-darkgrid')


import numpy as np
import matplotlib.pyplot as plt
import seaborn as sns
from IPython.display import display, Markdown

sns.set_style("darkgrid")

# Import all components from our engine
from src.exotic_engine.models.gbm import GeometricBrownianMotionProcess
from src.exotic_engine.instruments.european import EuropeanOption
from src.exotic_engine.instruments.asian import AsianOption
from src.exotic_engine.instruments.barrier import BarrierOption
from src.exotic_engine.instruments.bermudan import BermudanOption
from src.exotic_engine.pricing_engines.mc_engine import MonteCarloEngine
from src.exotic_engine.pricing_engines.fd_engine import FDEngine
from src.exotic_engine.pricing_engines.tree_engine import TreeEngine
from src.exotic_engine.analysis.greeks import GreeksCalculator

print("Engine components imported successfully.")





# 1. Define Market and Model Parameters
S0 = 100.0
K = 100.0
T = 1.0
r = 0.05
sigma = 0.20

# 2. Instantiate the Stochastic Process
gbm_process = GeometricBrownianMotionProcess(s0=S0, r=r, sigma=sigma)

# 3. Instantiate the Financial Instruments
vanilla_call = EuropeanOption(K=K, T=T, option_type="call")
barrier_option = BarrierOption(K=K, T=T, B=120.0, barrier_type="up-and-out", option_type="call")
bermudan_put = BermudanOption(K=105.0, T=T, option_type="put", exercise_dates=[0.25, 0.5, 0.75])

# 4. Instantiate the Pricing Engines
mc_engine = MonteCarloEngine(num_sims=50000, num_steps=252, use_antithetic=True, random_seed=42)
fd_engine = FDEngine(num_asset_steps=200, num_time_steps=200)
tree_engine = TreeEngine(num_steps=500)

# 5. Price the options
price_vanilla_mc = mc_engine.calculate(vanilla_call, gbm_process)
price_vanilla_fd, _, _ = fd_engine.calculate(vanilla_call, gbm_process)
price_vanilla_tree = tree_engine.calculate(vanilla_call, gbm_process)

price_barrier_mc = mc_engine.calculate(barrier_option, gbm_process)
price_barrier_fd, _, _ = fd_engine.calculate(barrier_option, gbm_process)
price_barrier_tree = tree_engine.calculate(barrier_option, gbm_process)

price_bermudan_tree = tree_engine.calculate(bermudan_put, gbm_process)

# 6. Display the results in a Markdown table
results_md = f"""
### Results Comparison Table
The consistency of the prices across different methods provides strong validation for the correctness of our implementations.

| Instrument                  | Monte Carlo | Finite Diff | Binomial Tree |
|-----------------------------|-------------|-------------|---------------|
| Vanilla Call                | {price_vanilla_mc:.4f}      | {price_vanilla_fd:.4f}      | {price_vanilla_tree:.4f}        |
| Up-and-Out Barrier Call     | {price_barrier_mc:.4f}      | {price_barrier_fd:.4f}      | {price_barrier_tree:.4f}        |
| Bermudan Put (K=105)        | N/A         | N/A         | {price_bermudan_tree:.4f}        |
"""

display(Markdown(results_md))






# 1. Define a wider range of spot prices for plotting
spot_prices = np.linspace(80, 140, 100)
gammas = []

# 2. Use the robust FDEngine for this calculation
fd_engine_greeks = FDEngine(num_asset_steps=400, num_time_steps=400, s_max_factor=2.5)

# 3. Calculate Gamma for each spot price
for s0_val in spot_prices:
    process = GeometricBrownianMotionProcess(s0=s0_val, r=r, sigma=sigma)
    _, _, gamma = fd_engine_greeks.calculate(barrier_option, process)
    gammas.append(gamma)

# 4. Plot the results
plt.figure(figsize=(12, 7))
plt.plot(spot_prices, gammas, color='crimson', lw=2.5)
plt.axvline(x=120, color='black', linestyle='--', label='Barrier Level = $120.00')
plt.title('Gamma of an Up-and-Out Call Option', fontsize=16)
plt.xlabel('Spot Price ($)', fontsize=12)
plt.ylabel('Gamma', fontsize=12)
plt.legend()
plt.show()















