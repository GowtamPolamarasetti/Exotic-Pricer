





import numpy as np
import matplotlib.pyplot as plt
import sys
sys.path.append('../') # Add root project dir to path

from src.exotic_engine.models.gbm import GeometricBrownianMotionProcess
from src.exotic_engine.instruments.barrier import BarrierOption
from src.exotic_engine.pricing_engines.fd_engine import FDEngine
from src.exotic_engine.analysis.greeks import GreeksCalculator

# Set plot style
plt.style.use('seaborn-v0_8-darkgrid')





# 1. Define the instrument and market parameters
K = 100.0
T = 0.5
r = 0.05
sigma = 0.25
B = 120.0 # Up-and-Out Barrier
barrier_option = BarrierOption(K=K, T=T, B=B, barrier_type="up-and-out", option_type="call")

# 2. Use the Finite Difference engine, which is well-suited for barriers
# We use a fine grid for accuracy in the Greeks calculation
fd_engine = FDEngine(num_asset_steps=200, num_time_steps=200)
greeks_calculator = GreeksCalculator(engine=fd_engine, ds=0.5)

# 3. Calculate Gamma across a range of spot prices
spot_prices = np.linspace(80, 130, 100)
gammas = []
for s0 in spot_prices:
    process = GeometricBrownianMotionProcess(s0=s0, r=r, sigma=sigma)
    gamma = greeks_calculator.calculate_gamma(barrier_option, process)
    gammas.append(gamma)

# 4. Plot the results
fig, ax = plt.subplots(figsize=(10, 6))
ax.plot(spot_prices, gammas, color='crimson', lw=2.5)
ax.axvline(x=B, color='black', linestyle='--', label=f'Barrier Level = ${B:.2f}')
ax.set_title('Gamma of an Up-and-Out Call Option', fontsize=16)
ax.set_xlabel('Spot Price ($)', fontsize=12)
ax.set_ylabel('Gamma', fontsize=12)
ax.legend(fontsize=12)
ax.grid(True)
plt.show()





gammas



